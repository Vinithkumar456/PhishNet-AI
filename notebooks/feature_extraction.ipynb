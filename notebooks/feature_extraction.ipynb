{
 "cells": [
  {
   "cell_type": "code",
   "execution_count": 2,
   "metadata": {},
   "outputs": [],
   "source": [
    "import pandas as pd\n",
    "import numpy as np\n",
    "import re\n",
    "from urllib.parse import urlparse\n",
    "from sklearn.model_selection import train_test_split"
   ]
  },
  {
   "cell_type": "code",
   "execution_count": 3,
   "metadata": {},
   "outputs": [],
   "source": [
    "df = pd.read_csv(\"../data/final_dataset.csv\")"
   ]
  },
  {
   "cell_type": "code",
   "execution_count": 4,
   "metadata": {},
   "outputs": [],
   "source": [
    "df['Label'] = df['Label'].map({'good': 0, 'bad': 1})"
   ]
  },
  {
   "cell_type": "code",
   "execution_count": 5,
   "metadata": {},
   "outputs": [],
   "source": [
    "df = df.dropna(subset=['URL'])  # Remove rows where URL is missing\n",
    "df['URL'] = df['URL'].astype(str)"
   ]
  },
  {
   "cell_type": "code",
   "execution_count": 6,
   "metadata": {},
   "outputs": [],
   "source": [
    "def extract_features(url):\n",
    "    parsed_url = urlparse(url)\n",
    "    \n",
    "    # Feature 1: URL Length\n",
    "    url_length = len(url)\n",
    "    \n",
    "    # Feature 2: Number of Dots (.)\n",
    "    num_dots = url.count('.')\n",
    "    \n",
    "    # Feature 3: Number of Hyphens (-)\n",
    "    num_hyphens = url.count('-')\n",
    "    \n",
    "    # Feature 4: Number of Slashes (/)\n",
    "    num_slashes = url.count('/')\n",
    "    \n",
    "    # Feature 5: Number of Digits in URL\n",
    "    num_digits = sum(c.isdigit() for c in url)\n",
    "    \n",
    "    # Feature 6: Presence of \"https\" (1 = Yes, 0 = No)\n",
    "    has_https = 1 if parsed_url.scheme == 'https' else 0\n",
    "    \n",
    "    # Feature 7: Presence of \"www\" in domain (1 = Yes, 0 = No)\n",
    "    has_www = 1 if \"www\" in parsed_url.netloc else 0\n",
    "    \n",
    "    # Feature 8: Length of Domain Name\n",
    "    domain_length = len(parsed_url.netloc)\n",
    "    \n",
    "    # Feature 9: Number of Special Characters in URL\n",
    "    special_chars = len(re.findall(r'[@_!#$%^&*()<>?/|}{~:]', url))\n",
    "    \n",
    "    # Feature 10: Is IP Address? (1 = Yes, 0 = No)\n",
    "    is_ip = 1 if re.match(r'\\d+\\.\\d+\\.\\d+\\.\\d+', parsed_url.netloc) else 0\n",
    "\n",
    "    return [url_length, num_dots, num_hyphens, num_slashes, num_digits, has_https, has_www, domain_length, special_chars, is_ip]"
   ]
  },
  {
   "cell_type": "code",
   "execution_count": 7,
   "metadata": {},
   "outputs": [],
   "source": [
    "feature_columns = ['url_length', 'num_dots', 'num_hyphens', 'num_slashes', 'num_digits', 'has_https', 'has_www', 'domain_length', 'special_chars', 'is_ip']\n",
    "df_features = df['URL'].apply(extract_features)\n",
    "df_features = pd.DataFrame(df_features.tolist(), columns=feature_columns)"
   ]
  },
  {
   "cell_type": "code",
   "execution_count": 11,
   "metadata": {},
   "outputs": [],
   "source": [
    "df_final = pd.concat([df_features, df['Label']], axis=1)\n",
    "df_final = df_final.dropna(subset=['Label'])"
   ]
  },
  {
   "cell_type": "code",
   "execution_count": 12,
   "metadata": {},
   "outputs": [],
   "source": [
    "X = df_final.drop(columns=['Label'])  # Features\n",
    "y = df_final['Label']  # Target"
   ]
  },
  {
   "cell_type": "code",
   "execution_count": 13,
   "metadata": {},
   "outputs": [],
   "source": [
    "\n",
    "X_train, X_test, y_train, y_test = train_test_split(X, y, test_size=0.2, stratify=y, random_state=42)"
   ]
  },
  {
   "cell_type": "code",
   "execution_count": 14,
   "metadata": {},
   "outputs": [],
   "source": [
    "df_final.to_csv(\"../data/processed_dataset.csv\", index=False)"
   ]
  },
  {
   "cell_type": "code",
   "execution_count": 15,
   "metadata": {},
   "outputs": [
    {
     "name": "stdout",
     "output_type": "stream",
     "text": [
      "✅ Feature extraction and data preprocessing completed!\n",
      "Training set size: 1239876\n",
      "Testing set size: 309969\n"
     ]
    }
   ],
   "source": [
    "\n",
    "print(\"✅ Feature extraction and data preprocessing completed!\")\n",
    "print(f\"Training set size: {len(X_train)}\")\n",
    "print(f\"Testing set size: {len(X_test)}\")"
   ]
  },
  {
   "cell_type": "code",
   "execution_count": 17,
   "metadata": {},
   "outputs": [],
   "source": [
    "import pandas as pd\n",
    "\n",
    "# Save training & testing sets\n",
    "X_train.to_csv(\"../data/X_train.csv\", index=False)\n",
    "X_test.to_csv(\"../data/X_test.csv\", index=False)\n",
    "y_train.to_csv(\"../data/y_train.csv\", index=False)\n",
    "y_test.to_csv(\"../data/y_test.csv\", index=False)\n"
   ]
  },
  {
   "cell_type": "code",
   "execution_count": 18,
   "metadata": {},
   "outputs": [
    {
     "ename": "SyntaxError",
     "evalue": "invalid syntax (4064640064.py, line 1)",
     "output_type": "error",
     "traceback": [
      "  \u001b[36mCell\u001b[39m\u001b[36m \u001b[39m\u001b[32mIn[18]\u001b[39m\u001b[32m, line 1\u001b[39m\n\u001b[31m    \u001b[39m\u001b[31mjupyter nbconvert --to script feature_extraction.ipynb\u001b[39m\n            ^\n\u001b[31mSyntaxError\u001b[39m\u001b[31m:\u001b[39m invalid syntax\n"
     ]
    }
   ],
   "source": [
    "jupyter nbconvert --to script feature_extraction.ipynb"
   ]
  },
  {
   "cell_type": "code",
   "execution_count": null,
   "metadata": {},
   "outputs": [],
   "source": []
  }
 ],
 "metadata": {
  "kernelspec": {
   "display_name": "Python 3",
   "language": "python",
   "name": "python3"
  },
  "language_info": {
   "codemirror_mode": {
    "name": "ipython",
    "version": 3
   },
   "file_extension": ".py",
   "mimetype": "text/x-python",
   "name": "python",
   "nbconvert_exporter": "python",
   "pygments_lexer": "ipython3",
   "version": "3.13.2"
  }
 },
 "nbformat": 4,
 "nbformat_minor": 2
}
