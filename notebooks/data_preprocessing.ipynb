{
 "cells": [
  {
   "cell_type": "code",
   "execution_count": 1,
   "metadata": {},
   "outputs": [
    {
     "name": "stdout",
     "output_type": "stream",
     "text": [
      "✅ Successfully fetched 501 phishing URLs from OpenPhish!\n"
     ]
    }
   ],
   "source": [
    "import requests\n",
    "import pandas as pd\n",
    "\n",
    "# OpenPhish Public Feed URL\n",
    "openphish_url = \"https://openphish.com/feed.txt\"\n",
    "\n",
    "try:\n",
    "    # Fetch the phishing URLs\n",
    "    response = requests.get(openphish_url)\n",
    "    response.raise_for_status()  # Raise an error if request fails\n",
    "\n",
    "    # Extract URLs from the response\n",
    "    phishing_urls = response.text.split(\"\\n\")\n",
    "\n",
    "    # Convert into a DataFrame\n",
    "    openphish_df = pd.DataFrame({\"URL\": phishing_urls})\n",
    "    openphish_df = openphish_df.dropna()  # Remove empty lines\n",
    "    openphish_df[\"Label\"] = \"bad\"  # Assign label\n",
    "\n",
    "    # Save to CSV\n",
    "    openphish_df.to_csv(\"openphish.csv\", index=False)\n",
    "\n",
    "    print(f\"✅ Successfully fetched {len(openphish_df)} phishing URLs from OpenPhish!\")\n",
    "\n",
    "except requests.exceptions.RequestException as e:\n",
    "    print(f\"❌ Error fetching OpenPhish data: {e}\")\n"
   ]
  },
  {
   "cell_type": "code",
   "execution_count": 2,
   "metadata": {},
   "outputs": [],
   "source": [
    "import pandas as pd\n",
    "import numpy as np"
   ]
  },
  {
   "cell_type": "code",
   "execution_count": 7,
   "metadata": {},
   "outputs": [],
   "source": [
    "import pandas as pd\n",
    "\n",
    "# Load Kaggle dataset\n",
    "kaggle_df = pd.read_csv(\"../data/phishing_site_urls.csv\")\n",
    "\n",
    "# Load OpenPhish dataset\n",
    "openphish_df = pd.read_csv(\"../data/openphish.csv\")\n",
    "\n",
    "# Load Alexa dataset\n",
    "alexa_df = pd.read_csv(\"../data/top-1m.csv\")\n"
   ]
  },
  {
   "cell_type": "code",
   "execution_count": 8,
   "metadata": {},
   "outputs": [],
   "source": [
    "# Kaggle dataset (already labeled)\n",
    "kaggle_df = kaggle_df[['URL', 'Label']]\n",
    "\n",
    "# OpenPhish dataset (all are phishing)\n",
    "openphish_df = openphish_df[['URL']]\n",
    "openphish_df[\"Label\"] = \"bad\"\n",
    "\n",
    "# Alexa dataset (safe domains)\n",
    "alexa_df.columns = ['Rank', 'URL']\n",
    "alexa_df = alexa_df[['URL']]\n",
    "alexa_df[\"Label\"] = \"good\""
   ]
  },
  {
   "cell_type": "code",
   "execution_count": 10,
   "metadata": {},
   "outputs": [
    {
     "name": "stdout",
     "output_type": "stream",
     "text": [
      "✅ Final dataset saved with 1549846 records.\n"
     ]
    }
   ],
   "source": [
    "# Merge all datasets into one\n",
    "final_df = pd.concat([kaggle_df, openphish_df, alexa_df], ignore_index=True)\n",
    "\n",
    "# Save the final dataset\n",
    "final_df.to_csv(\"../data/final_dataset.csv\", index=False)\n",
    "\n",
    "print(f\"✅ Final dataset saved with {len(final_df)} records.\")\n"
   ]
  }
 ],
 "metadata": {
  "kernelspec": {
   "display_name": "Python 3",
   "language": "python",
   "name": "python3"
  },
  "language_info": {
   "codemirror_mode": {
    "name": "ipython",
    "version": 3
   },
   "file_extension": ".py",
   "mimetype": "text/x-python",
   "name": "python",
   "nbconvert_exporter": "python",
   "pygments_lexer": "ipython3",
   "version": "3.13.2"
  }
 },
 "nbformat": 4,
 "nbformat_minor": 2
}
