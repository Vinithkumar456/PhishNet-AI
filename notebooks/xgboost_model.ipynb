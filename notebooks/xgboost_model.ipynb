{
 "cells": [
  {
   "cell_type": "code",
   "execution_count": 1,
   "metadata": {},
   "outputs": [
    {
     "name": "stdout",
     "output_type": "stream",
     "text": [
      "Collecting xgboost\n",
      "  Downloading xgboost-3.0.0-py3-none-win_amd64.whl.metadata (2.1 kB)\n",
      "Requirement already satisfied: numpy in c:\\users\\vinith kumar\\appdata\\local\\programs\\python\\python313\\lib\\site-packages (from xgboost) (2.2.4)\n",
      "Requirement already satisfied: scipy in c:\\users\\vinith kumar\\appdata\\local\\programs\\python\\python313\\lib\\site-packages (from xgboost) (1.15.1)\n",
      "Downloading xgboost-3.0.0-py3-none-win_amd64.whl (150.0 MB)\n",
      "   ---------------------------------------- 0.0/150.0 MB ? eta -:--:--\n",
      "   ---------------------------------------- 1.6/150.0 MB 8.8 MB/s eta 0:00:17\n",
      "    --------------------------------------- 3.7/150.0 MB 9.4 MB/s eta 0:00:16\n",
      "   - -------------------------------------- 5.8/150.0 MB 10.0 MB/s eta 0:00:15\n",
      "   -- ------------------------------------- 7.9/150.0 MB 10.0 MB/s eta 0:00:15\n",
      "   -- ------------------------------------- 10.2/150.0 MB 10.3 MB/s eta 0:00:14\n",
      "   --- ------------------------------------ 12.6/150.0 MB 10.5 MB/s eta 0:00:14\n",
      "   --- ------------------------------------ 14.9/150.0 MB 10.5 MB/s eta 0:00:13\n",
      "   ---- ----------------------------------- 17.0/150.0 MB 10.7 MB/s eta 0:00:13\n",
      "   ----- ---------------------------------- 19.7/150.0 MB 10.9 MB/s eta 0:00:12\n",
      "   ------ --------------------------------- 22.5/150.0 MB 11.1 MB/s eta 0:00:12\n",
      "   ------ --------------------------------- 25.2/150.0 MB 11.3 MB/s eta 0:00:12\n",
      "   ------- -------------------------------- 27.8/150.0 MB 11.4 MB/s eta 0:00:11\n",
      "   -------- ------------------------------- 30.4/150.0 MB 11.5 MB/s eta 0:00:11\n",
      "   -------- ------------------------------- 33.0/150.0 MB 11.5 MB/s eta 0:00:11\n",
      "   --------- ------------------------------ 35.1/150.0 MB 11.4 MB/s eta 0:00:11\n",
      "   ---------- ----------------------------- 37.7/150.0 MB 11.5 MB/s eta 0:00:10\n",
      "   ---------- ----------------------------- 40.6/150.0 MB 11.6 MB/s eta 0:00:10\n",
      "   ----------- ---------------------------- 43.3/150.0 MB 11.6 MB/s eta 0:00:10\n",
      "   ------------ --------------------------- 45.9/150.0 MB 11.7 MB/s eta 0:00:09\n",
      "   ------------ --------------------------- 48.2/150.0 MB 11.7 MB/s eta 0:00:09\n",
      "   ------------- -------------------------- 50.9/150.0 MB 11.8 MB/s eta 0:00:09\n",
      "   -------------- ------------------------- 53.5/150.0 MB 11.8 MB/s eta 0:00:09\n",
      "   -------------- ------------------------- 55.8/150.0 MB 11.8 MB/s eta 0:00:08\n",
      "   --------------- ------------------------ 58.5/150.0 MB 11.8 MB/s eta 0:00:08\n",
      "   ---------------- ----------------------- 61.1/150.0 MB 11.9 MB/s eta 0:00:08\n",
      "   ---------------- ----------------------- 63.7/150.0 MB 11.9 MB/s eta 0:00:08\n",
      "   ----------------- ---------------------- 66.1/150.0 MB 11.9 MB/s eta 0:00:08\n",
      "   ------------------ --------------------- 68.7/150.0 MB 12.0 MB/s eta 0:00:07\n",
      "   ------------------ --------------------- 71.0/150.0 MB 12.0 MB/s eta 0:00:07\n",
      "   ------------------- -------------------- 73.7/150.0 MB 12.0 MB/s eta 0:00:07\n",
      "   -------------------- ------------------- 76.3/150.0 MB 12.0 MB/s eta 0:00:07\n",
      "   --------------------- ------------------ 78.9/150.0 MB 12.0 MB/s eta 0:00:06\n",
      "   --------------------- ------------------ 81.5/150.0 MB 12.0 MB/s eta 0:00:06\n",
      "   ---------------------- ----------------- 84.1/150.0 MB 12.0 MB/s eta 0:00:06\n",
      "   ----------------------- ---------------- 86.8/150.0 MB 12.0 MB/s eta 0:00:06\n",
      "   ----------------------- ---------------- 89.4/150.0 MB 12.1 MB/s eta 0:00:06\n",
      "   ------------------------ --------------- 91.8/150.0 MB 12.1 MB/s eta 0:00:05\n",
      "   ------------------------- -------------- 94.1/150.0 MB 12.1 MB/s eta 0:00:05\n",
      "   ------------------------- -------------- 96.7/150.0 MB 12.1 MB/s eta 0:00:05\n",
      "   -------------------------- ------------- 99.4/150.0 MB 12.1 MB/s eta 0:00:05\n",
      "   -------------------------- ------------ 102.0/150.0 MB 12.1 MB/s eta 0:00:04\n",
      "   --------------------------- ----------- 104.6/150.0 MB 12.1 MB/s eta 0:00:04\n",
      "   --------------------------- ----------- 107.2/150.0 MB 12.1 MB/s eta 0:00:04\n",
      "   ---------------------------- ---------- 110.1/150.0 MB 12.1 MB/s eta 0:00:04\n",
      "   ----------------------------- --------- 112.7/150.0 MB 12.1 MB/s eta 0:00:04\n",
      "   ----------------------------- --------- 115.3/150.0 MB 12.2 MB/s eta 0:00:03\n",
      "   ------------------------------ -------- 118.0/150.0 MB 12.2 MB/s eta 0:00:03\n",
      "   ------------------------------- ------- 120.6/150.0 MB 12.2 MB/s eta 0:00:03\n",
      "   -------------------------------- ------ 123.2/150.0 MB 12.2 MB/s eta 0:00:03\n",
      "   -------------------------------- ------ 125.8/150.0 MB 12.2 MB/s eta 0:00:02\n",
      "   --------------------------------- ----- 128.5/150.0 MB 12.2 MB/s eta 0:00:02\n",
      "   ---------------------------------- ---- 131.1/150.0 MB 12.2 MB/s eta 0:00:02\n",
      "   ---------------------------------- ---- 133.7/150.0 MB 12.2 MB/s eta 0:00:02\n",
      "   ----------------------------------- --- 136.6/150.0 MB 12.2 MB/s eta 0:00:02\n",
      "   ------------------------------------ -- 138.9/150.0 MB 12.2 MB/s eta 0:00:01\n",
      "   ------------------------------------ -- 141.6/150.0 MB 12.2 MB/s eta 0:00:01\n",
      "   ------------------------------------- - 144.2/150.0 MB 12.2 MB/s eta 0:00:01\n",
      "   --------------------------------------  146.8/150.0 MB 12.2 MB/s eta 0:00:01\n",
      "   --------------------------------------  149.4/150.0 MB 12.2 MB/s eta 0:00:01\n",
      "   --------------------------------------  149.9/150.0 MB 12.2 MB/s eta 0:00:01\n",
      "   --------------------------------------  149.9/150.0 MB 12.2 MB/s eta 0:00:01\n",
      "   --------------------------------------  149.9/150.0 MB 12.2 MB/s eta 0:00:01\n",
      "   --------------------------------------- 150.0/150.0 MB 11.6 MB/s eta 0:00:00\n",
      "Installing collected packages: xgboost\n",
      "Successfully installed xgboost-3.0.0\n",
      "Note: you may need to restart the kernel to use updated packages.\n"
     ]
    }
   ],
   "source": [
    "pip install xgboost"
   ]
  },
  {
   "cell_type": "code",
   "execution_count": 2,
   "metadata": {},
   "outputs": [],
   "source": [
    "import xgboost as xgb\n",
    "from sklearn.metrics import accuracy_score, classification_report"
   ]
  },
  {
   "cell_type": "code",
   "execution_count": 4,
   "metadata": {},
   "outputs": [],
   "source": [
    "import pandas as pd\n",
    "\n",
    "# Load preprocessed data\n",
    "X_train = pd.read_csv(\"../data/X_train.csv\")\n",
    "X_test = pd.read_csv(\"../data/X_test.csv\")\n",
    "y_train = pd.read_csv(\"../data/y_train.csv\")\n",
    "y_test = pd.read_csv(\"../data/y_test.csv\")"
   ]
  },
  {
   "cell_type": "code",
   "execution_count": 5,
   "metadata": {},
   "outputs": [],
   "source": [
    "dtrain = xgb.DMatrix(X_train, label=y_train)\n",
    "dtest = xgb.DMatrix(X_test, label=y_test)"
   ]
  },
  {
   "cell_type": "code",
   "execution_count": 6,
   "metadata": {},
   "outputs": [],
   "source": [
    "\n",
    "# 📌 Step 2: Define model parameters\n",
    "params = {\n",
    "    'objective': 'binary:logistic',  # Binary classification\n",
    "    'eval_metric': 'logloss',        # Logarithmic loss\n",
    "    'max_depth': 6,                   # Depth of trees\n",
    "    'learning_rate': 0.1,              # Step size shrinkage\n",
    "    'n_estimators': 100,               # Number of trees\n",
    "    'random_state': 42\n",
    "}\n"
   ]
  },
  {
   "cell_type": "code",
   "execution_count": 7,
   "metadata": {},
   "outputs": [
    {
     "name": "stderr",
     "output_type": "stream",
     "text": [
      "c:\\Users\\Vinith Kumar\\AppData\\Local\\Programs\\Python\\Python313\\Lib\\site-packages\\xgboost\\training.py:183: UserWarning: [14:12:42] WARNING: C:\\actions-runner\\_work\\xgboost\\xgboost\\src\\learner.cc:738: \n",
      "Parameters: { \"n_estimators\" } are not used.\n",
      "\n",
      "  bst.update(dtrain, iteration=i, fobj=obj)\n"
     ]
    }
   ],
   "source": [
    "# 📌 Step 3: Train the model\n",
    "model = xgb.train(params, dtrain, num_boost_round=100)\n",
    "\n",
    "# 📌 Step 4: Make predictions\n",
    "y_pred_prob = model.predict(dtest)\n",
    "y_pred = [1 if prob > 0.5 else 0 for prob in y_pred_prob]  # Convert probabilities to binary"
   ]
  },
  {
   "cell_type": "code",
   "execution_count": 8,
   "metadata": {},
   "outputs": [],
   "source": [
    "accuracy = accuracy_score(y_test, y_pred)\n",
    "report = classification_report(y_test, y_pred)"
   ]
  },
  {
   "cell_type": "code",
   "execution_count": 9,
   "metadata": {},
   "outputs": [
    {
     "name": "stdout",
     "output_type": "stream",
     "text": [
      "✅ XGBoost Model Accuracy: 94.14%\n",
      "\n",
      "📊 Classification Report:\n",
      "               precision    recall  f1-score   support\n",
      "\n",
      "         0.0       0.95      0.99      0.97    278585\n",
      "         1.0       0.83      0.53      0.65     31384\n",
      "\n",
      "    accuracy                           0.94    309969\n",
      "   macro avg       0.89      0.76      0.81    309969\n",
      "weighted avg       0.94      0.94      0.94    309969\n",
      "\n"
     ]
    }
   ],
   "source": [
    "\n",
    "print(f\"✅ XGBoost Model Accuracy: {accuracy * 100:.2f}%\")\n",
    "print(\"\\n📊 Classification Report:\\n\", report)"
   ]
  },
  {
   "cell_type": "code",
   "execution_count": 11,
   "metadata": {},
   "outputs": [],
   "source": [
    "import pickle\n",
    "\n",
    "# Save trained XGBoost model\n",
    "with open(\"../flask-api/models/xgboost_model.pkl\", \"wb\") as f:\n",
    "    pickle.dump(model, f)"
   ]
  },
  {
   "cell_type": "code",
   "execution_count": null,
   "metadata": {},
   "outputs": [],
   "source": []
  }
 ],
 "metadata": {
  "kernelspec": {
   "display_name": "Python 3",
   "language": "python",
   "name": "python3"
  },
  "language_info": {
   "codemirror_mode": {
    "name": "ipython",
    "version": 3
   },
   "file_extension": ".py",
   "mimetype": "text/x-python",
   "name": "python",
   "nbconvert_exporter": "python",
   "pygments_lexer": "ipython3",
   "version": "3.13.2"
  }
 },
 "nbformat": 4,
 "nbformat_minor": 2
}
